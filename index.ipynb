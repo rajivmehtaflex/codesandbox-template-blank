{
 "cells": [
  {
   "cell_type": "code",
   "execution_count": null,
   "metadata": {},
   "outputs": [],
   "source": [
    "from enum import Enum\n",
    "class Names(Enum):\n",
    "    Alice = 1\n",
    "    Bob = 2\n",
    "    Charlie = 3\n",
    "    David = 4\n",
    "    Eve = 5\n",
    "    Frank = 6\n",
    "    George = 7\n",
    "    Harriet = 8\n",
    "    Isaac = 9\n",
    "    Jane = 10\n",
    "    Ken = 11\n",
    "    Lisa = 12\n",
    "    Matthew = 13\n",
    "    Nora = 14\n",
    "    Paul = 15\n",
    "    Quinn = 16\n",
    "    Robert = 17\n",
    "    Sarah = 18\n",
    "    Tim = 19\n",
    "    Ursula = 20\n",
    "    Victor = 21\n",
    "    Wendy = 22\n",
    "    Xena =  23"
   ]
  },
  {
   "cell_type": "code",
   "execution_count": null,
   "metadata": {},
   "outputs": [],
   "source": [
    "print(Names.George.value)"
   ]
  },
  {
   "cell_type": "code",
   "execution_count": null,
   "metadata": {},
   "outputs": [],
   "source": [
    "import random\n",
    "internaldb=['mantra','sonal','dada','dadi','dhun']"
   ]
  },
  {
   "cell_type": "code",
   "execution_count": null,
   "metadata": {},
   "outputs": [],
   "source": [
    "from copy import deepcopy\n",
    "foo=iter(internaldb)\n",
    "bar=deepcopy(foo)"
   ]
  },
  {
   "cell_type": "code",
   "execution_count": null,
   "metadata": {},
   "outputs": [],
   "source": [
    "for item in internaldb:\n",
    "    print(item)"
   ]
  },
  {
   "cell_type": "code",
   "execution_count": null,
   "metadata": {},
   "outputs": [],
   "source": [
    "class PowTwo:\n",
    "    \"\"\"Class to implement an iterator\n",
    "    of powers of two\"\"\"\n",
    "\n",
    "    def __init__(self, max=0):\n",
    "        print('Invoked')\n",
    "        self.max = max\n",
    "\n",
    "    def __iter__(self):\n",
    "        print('iterdata')\n",
    "        self.n = 0\n",
    "        return self\n",
    "\n",
    "    def __next__(self):\n",
    "        if self.n <= self.max:\n",
    "            print('invokded next')\n",
    "            result = 2 ** self.n\n",
    "            self.n += 1\n",
    "            return result\n",
    "        else:\n",
    "            raise StopIteration\n",
    "\n",
    "\n",
    "# create an object\n",
    "numbers = PowTwo(3)\n",
    "\n",
    "# # create an iterable from the object\n",
    "i = iter(numbers)\n",
    "\n",
    "# # Using next to get to the next iterator element\n",
    "print(next(i))"
   ]
  },
  {
   "cell_type": "code",
   "execution_count": null,
   "metadata": {},
   "outputs": [],
   "source": []
  },
  {
   "cell_type": "code",
   "execution_count": null,
   "metadata": {},
   "outputs": [],
   "source": []
  }
 ],
 "metadata": {
  "kernelspec": {
   "display_name": "Python 3.8.13 ('uiexp')",
   "language": "python",
   "name": "python3"
  },
  "language_info": {
   "codemirror_mode": {
    "name": "ipython",
    "version": 3
   },
   "file_extension": ".py",
   "mimetype": "text/x-python",
   "name": "python",
   "nbconvert_exporter": "python",
   "pygments_lexer": "ipython3",
   "version": "3.8.13"
  },
  "orig_nbformat": 4,
  "vscode": {
   "interpreter": {
    "hash": "498d4352704bb734a87c0f25129e7177b96edffb707152e39902b9ed79072acf"
   }
  }
 },
 "nbformat": 4,
 "nbformat_minor": 2
}
