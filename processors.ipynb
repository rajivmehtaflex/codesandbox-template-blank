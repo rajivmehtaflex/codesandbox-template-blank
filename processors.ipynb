{
 "cells": [
  {
   "cell_type": "code",
   "execution_count": null,
   "metadata": {},
   "outputs": [],
   "source": [
    "!conda install -c conda-forge requests timer -y"
   ]
  },
  {
   "cell_type": "code",
   "execution_count": 3,
   "metadata": {},
   "outputs": [],
   "source": [
    "import os,sys\n",
    "sys.version\n",
    "import requests\n",
    "from timer import timer\n",
    "from multiprocessing import Pool\n",
    "from concurrent.futures import ThreadPoolExecutor"
   ]
  },
  {
   "cell_type": "code",
   "execution_count": 10,
   "metadata": {},
   "outputs": [
    {
     "name": "stdout",
     "output_type": "stream",
     "text": [
      "3b2c3088-e97f-4000-8699-5970da055ee1\n",
      "047fd658-b8f7-4aca-b989-7115f69192c7\n",
      "3055f3c3-ff07-4faf-b135-0a17c6571462\n",
      "b3cc73cf-5402-46b5-bf2d-a892b766816f\n",
      "cda45fa9-79dc-4dd5-836e-41924405defc\n",
      "24bf076d-f697-465b-8f19-a42f5da08734\n",
      "4217ef56-1edd-4e82-8230-ec08db863616\n",
      "94126f0c-96bf-4bbc-991d-6336d2680a02\n",
      "78013734-259a-4267-b7cf-2fc9b520706b\n",
      "09aaa701-c823-4f93-adcd-69b5223228c0\n",
      "e644a585-ada9-417a-bd95-9be8093cfae5\n",
      "d6610455-6a3d-4d40-8a22-49f5d53b1d44\n",
      "178ac458-5a90-4de4-9b74-ed7e8d671153\n",
      "fc5a10d4-1c5d-4429-8566-e91af2f98f06\n",
      "2157d05f-0fa3-4e10-83eb-19b0fd2a607e\n",
      "fc102baa-3bd7-4f21-a866-0444004aa74d\n",
      "3f59e7de-7ee7-4dbb-9d2d-914b29d0a92c\n",
      "0504dfb1-7d02-41d5-acd0-d67486fa7da4\n",
      "85ffcace-ab41-481f-98dd-7838ebc322bf\n",
      "517d3d60-c029-43ff-922d-79ad85b88c79\n",
      "1ade8947-2c67-49a7-8a27-84a4b81d3fbc\n",
      "aa4f459f-7981-4c10-addd-9ec95a35b55c\n",
      "7c31b572-1d5f-4732-a75b-6079707bb234\n",
      "90dcaecb-b2fc-42e9-b264-b1c21e115f9f\n",
      "ad0318d3-d2ef-49eb-9109-a8ca3c72e50c\n",
      "f9ae5d16-a1a1-4ecc-bfca-76811cbfcb31\n",
      "b8c21d2f-0553-4487-9a94-1f4d2f8304ef\n",
      "b5e38720-74f3-4778-886d-3fa16a497abb\n",
      "1e34e2bd-c42a-4b04-aabb-7c7712554e6f\n",
      "fa7454b6-7f6e-43ab-abd1-3c95491e4d81\n",
      "ec1253c4-d53c-4df5-991f-0b9a5e373125\n",
      "b7ae9d68-d969-488a-9818-9c6cd17857d6\n",
      "7f787bcd-8cfd-4d3b-a426-3e659e8a2241\n",
      "0cb39655-a703-42c9-84ea-51e546e35844\n",
      "e3f6148a-8c48-4456-a529-486fba405a4b\n",
      "d4836742-c818-42ac-b3fd-05e37dded4d3\n",
      "8185418b-37f5-4064-8ee3-a86d1f1ceccb\n",
      "94cea259-64a8-4e24-a942-1f2e0ef580b4\n",
      "01ab3a21-ae80-4d87-b9f9-65d6f1bb11e0\n",
      "cd416217-6e7b-4a6b-845a-3c1d18f066ba\n",
      "17f9129a-d32e-437d-9612-8e886ee0ab1e\n",
      "5cb45ddd-7d88-494c-b8e9-39e77a5ea7b5\n",
      "babf3c76-120b-4a89-a74b-258ee5f5e337\n",
      "2634de23-a412-4467-a1a2-33a7d516998a\n",
      "2e8bbf72-0d5c-401b-a277-adcdccb781b9\n",
      "2120260f-6e4c-49c7-9b57-1de6086ac40a\n",
      "72f6e612-4e15-4343-85de-f181a90416fb\n",
      "669eb926-d580-4541-87b1-3a761927d222\n",
      "5eae0d72-7bf1-4536-92ac-bafde7d765bc\n",
      "b59abf9a-1178-45dc-86a2-0f1ad6014cf9\n",
      "477262cd-701e-4dcc-a69b-98b165f09549\n",
      "fda36159-b291-4ef6-85aa-346ac92e67ce\n",
      "bb55ae48-775b-4c38-9453-0e26c283556e\n",
      "b143890c-c1bb-4ba2-b3f1-fb109ce59fa0\n",
      "0f26b169-1ca0-44f2-9b0e-66b3430a6ca9\n",
      "b6950236-7e1d-4171-ba57-a3712f9f8a7f\n",
      "ef4de208-5656-4440-b4ef-fb465441feec\n",
      "0d62a051-ee94-41a8-a086-38c37d6bb377\n",
      "053ef2a6-5181-4368-8571-34cb6246076a\n",
      "830e190d-e5c0-415a-9f13-e554b466cba0\n",
      "790580d7-b657-41e7-a852-4494138dd1cb\n",
      "d31c1c43-30f8-4af1-8810-79b1f00b1e2d\n",
      "c8942ece-7c0b-4395-806a-2996d540f7f2\n",
      "40bdedc2-21f6-4a34-bf14-9fc916c71861\n",
      "23a26850-3ea9-4619-8242-28ca66b28000\n",
      "7b5112f1-903b-4aa5-bf99-f2423196521f\n",
      "aa1adba3-a302-4319-9580-6ba6c8f13327\n",
      "036c5ec8-1e26-4c93-8e23-868e8639faf1\n",
      "9cbd6644-4c1f-48bb-ba42-b54a253733b6\n",
      "bb05ade8-25f3-4cf6-9a3c-a884890669f4\n",
      "7afa484c-9fb4-4491-99c1-cb316572015a\n",
      "1db4b567-1401-4d5d-b3ec-f523a418308b\n",
      "ae15697e-5946-4ba7-ade6-69d819c3da0a\n",
      "fea8e18a-b3e0-4afe-abe5-e64b7ff8834f\n",
      "36451d15-c872-428f-84fc-47539e0e5dfb\n",
      "88ed64f2-6549-4eba-b3a7-d347ffe409f6\n",
      "58b782b7-4361-4e94-adc3-c2f0699f8971\n",
      "b6cf3014-8adb-4896-bea6-061390106544\n",
      "f04e599d-a64c-4820-a6ef-327b6e829f01\n",
      "4189b1b6-f10e-4055-bfa6-f33fee5b6daf\n",
      "23fcafb2-f44f-4fec-a3e3-f42ff6060a27\n",
      "4c982246-3edb-462b-b762-972298be9b4c\n",
      "3785f8f4-b21e-400c-ac32-6f2abac10eaf\n",
      "33d820ba-146b-46dd-9d73-cd44b166179e\n",
      "40c47d47-8406-4c59-9aa8-6052fb0a965c95297ada-be23-4156-9f9a-792f8a657e37\n",
      "f8c1329c-f0ec-4556-a597-28a7adcd1094\n",
      "7dfd7339-10e2-4f87-bf69-94fdca174e73\n",
      "6f1720e0-f581-4f7d-8ab4-5dc6fee11ba8\n",
      "\n",
      "545b3306-2de2-470d-a382-a19c1db43db2\n",
      "7a20099c-fe15-41db-a348-d2970fc83d16\n",
      "fa24ecfc-d22d-40bf-af78-a4bdea9acf16\n",
      "83fe1c82-2328-463c-9ec4-448e7cc7648c\n",
      "7447fa31-41aa-41ac-b125-d233c64b442b\n",
      "ae52759a-b085-46a8-89ac-636daaf0978f\n",
      "fde27dc5-a37b-45b9-9fe7-b266a104b8da\n",
      "dcec505e-35d7-4e43-b96d-49d292790d5e\n",
      "39728f81-9a93-41a6-9a1a-21933f8e83c8\n",
      "c9076b06-e9c6-4c3f-8cd6-7d93cc5560c4\n",
      "0d101d86-4fda-4955-8821-61050cc88962\n",
      "0.852569983999274\n"
     ]
    }
   ],
   "source": [
    "# %%time\n",
    "URL='https://httpbin.org/uuid'\n",
    "\n",
    "def getdata(session,URL):\n",
    "    with session.get(URL) as response:\n",
    "        print(response.json()['uuid'])\n",
    "\n",
    "@timer(1,1)\n",
    "def sample():\n",
    "    with requests.Session() as session:\n",
    "        with ThreadPoolExecutor(max_workers=50) as executor:\n",
    "            executor.map(getdata, [session]*100, [URL]*100)\n",
    "    # with Pool() as pref:\n",
    "    #     with requests.Session() as s:\n",
    "    #         pref.starmap(getdata,[(s,URL) for _ in range(100)])\n",
    "    # for inx,item in enumerate(range(100)):\n",
    "    #     with requests.Session() as s:\n",
    "    #          print(f'index {inx}-->{getdata(s,URL)}')"
   ]
  },
  {
   "cell_type": "code",
   "execution_count": null,
   "metadata": {},
   "outputs": [],
   "source": [
    "[URL]*100"
   ]
  },
  {
   "cell_type": "code",
   "execution_count": null,
   "metadata": {},
   "outputs": [],
   "source": []
  },
  {
   "cell_type": "code",
   "execution_count": null,
   "metadata": {},
   "outputs": [],
   "source": []
  },
  {
   "cell_type": "code",
   "execution_count": null,
   "metadata": {},
   "outputs": [],
   "source": []
  }
 ],
 "metadata": {
  "kernelspec": {
   "display_name": "Python 3.8.13 ('uiexp')",
   "language": "python",
   "name": "python3"
  },
  "language_info": {
   "codemirror_mode": {
    "name": "ipython",
    "version": 3
   },
   "file_extension": ".py",
   "mimetype": "text/x-python",
   "name": "python",
   "nbconvert_exporter": "python",
   "pygments_lexer": "ipython3",
   "version": "3.8.13"
  },
  "orig_nbformat": 4,
  "vscode": {
   "interpreter": {
    "hash": "498d4352704bb734a87c0f25129e7177b96edffb707152e39902b9ed79072acf"
   }
  }
 },
 "nbformat": 4,
 "nbformat_minor": 2
}
