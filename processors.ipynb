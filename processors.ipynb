{
 "cells": [
  {
   "cell_type": "code",
   "execution_count": null,
   "metadata": {},
   "outputs": [],
   "source": [
    "!conda install -c conda-forge requests aiohttp -y"
   ]
  },
  {
   "cell_type": "code",
   "execution_count": 3,
   "metadata": {},
   "outputs": [],
   "source": [
    "import os,sys\n",
    "sys.version\n",
    "import aiohttp\n",
    "from timer import timer\n",
    "from multiprocessing import Pool\n",
    "from concurrent.futures import ThreadPoolExecutor"
   ]
  },
  {
   "cell_type": "code",
   "execution_count": 4,
   "metadata": {},
   "outputs": [
    {
     "ename": "RuntimeError",
     "evalue": "asyncio.run() cannot be called from a running event loop",
     "output_type": "error",
     "traceback": [
      "\u001b[0;31m---------------------------------------------------------------------------\u001b[0m",
      "\u001b[0;31mRuntimeError\u001b[0m                              Traceback (most recent call last)",
      "\u001b[1;32m/project/codesandbox-template-blank/processors.ipynb Cell 3\u001b[0m in \u001b[0;36m<cell line: 26>\u001b[0;34m()\u001b[0m\n\u001b[1;32m     <a href='vscode-notebook-cell://ssh-remote%2Brajivmehtaflex.codesandbox-template-blank.draft---eloquent-matan.csb/project/codesandbox-template-blank/processors.ipynb#W2sdnNjb2RlLXJlbW90ZQ%3D%3D?line=22'>23</a>\u001b[0m             \u001b[39mawait\u001b[39;00m asyncio\u001b[39m.\u001b[39mgather(\u001b[39m*\u001b[39mtasks)\n\u001b[1;32m     <a href='vscode-notebook-cell://ssh-remote%2Brajivmehtaflex.codesandbox-template-blank.draft---eloquent-matan.csb/project/codesandbox-template-blank/processors.ipynb#W2sdnNjb2RlLXJlbW90ZQ%3D%3D?line=23'>24</a>\u001b[0m             \u001b[39m#  print(f'index {inx}-->{getdata(s,URL)}')\u001b[39;00m\n\u001b[1;32m     <a href='vscode-notebook-cell://ssh-remote%2Brajivmehtaflex.codesandbox-template-blank.draft---eloquent-matan.csb/project/codesandbox-template-blank/processors.ipynb#W2sdnNjb2RlLXJlbW90ZQ%3D%3D?line=25'>26</a>\u001b[0m \u001b[39m@timer\u001b[39;49m(\u001b[39m1\u001b[39;49m,\u001b[39m1\u001b[39;49m)\n\u001b[0;32m---> <a href='vscode-notebook-cell://ssh-remote%2Brajivmehtaflex.codesandbox-template-blank.draft---eloquent-matan.csb/project/codesandbox-template-blank/processors.ipynb#W2sdnNjb2RlLXJlbW90ZQ%3D%3D?line=26'>27</a>\u001b[0m \u001b[39mdef\u001b[39;49;00m \u001b[39mfuncproc\u001b[39;49m():\n\u001b[1;32m     <a href='vscode-notebook-cell://ssh-remote%2Brajivmehtaflex.codesandbox-template-blank.draft---eloquent-matan.csb/project/codesandbox-template-blank/processors.ipynb#W2sdnNjb2RlLXJlbW90ZQ%3D%3D?line=27'>28</a>\u001b[0m     asyncio\u001b[39m.\u001b[39;49mrun(sample())\n",
      "File \u001b[0;32m/project/codesandbox-template-blank/timer.py:5\u001b[0m, in \u001b[0;36mtimer.<locals>.wrapper\u001b[0;34m(func)\u001b[0m\n\u001b[1;32m      4\u001b[0m \u001b[39mdef\u001b[39;00m \u001b[39mwrapper\u001b[39m(func):\n\u001b[0;32m----> 5\u001b[0m     runs\u001b[39m=\u001b[39mtimeit\u001b[39m.\u001b[39;49mrepeat(func,repeat\u001b[39m=\u001b[39;49mrepeat,number\u001b[39m=\u001b[39;49mnumber)\n\u001b[1;32m      6\u001b[0m     \u001b[39mprint\u001b[39m(\u001b[39msum\u001b[39m(runs)\u001b[39m/\u001b[39m\u001b[39mlen\u001b[39m(runs))\n",
      "File \u001b[0;32m~/miniconda3/envs/uiexp/lib/python3.8/timeit.py:238\u001b[0m, in \u001b[0;36mrepeat\u001b[0;34m(stmt, setup, timer, repeat, number, globals)\u001b[0m\n\u001b[1;32m    235\u001b[0m \u001b[39mdef\u001b[39;00m \u001b[39mrepeat\u001b[39m(stmt\u001b[39m=\u001b[39m\u001b[39m\"\u001b[39m\u001b[39mpass\u001b[39m\u001b[39m\"\u001b[39m, setup\u001b[39m=\u001b[39m\u001b[39m\"\u001b[39m\u001b[39mpass\u001b[39m\u001b[39m\"\u001b[39m, timer\u001b[39m=\u001b[39mdefault_timer,\n\u001b[1;32m    236\u001b[0m            repeat\u001b[39m=\u001b[39mdefault_repeat, number\u001b[39m=\u001b[39mdefault_number, \u001b[39mglobals\u001b[39m\u001b[39m=\u001b[39m\u001b[39mNone\u001b[39;00m):\n\u001b[1;32m    237\u001b[0m     \u001b[39m\"\"\"Convenience function to create Timer object and call repeat method.\"\"\"\u001b[39;00m\n\u001b[0;32m--> 238\u001b[0m     \u001b[39mreturn\u001b[39;00m Timer(stmt, setup, timer, \u001b[39mglobals\u001b[39;49m)\u001b[39m.\u001b[39;49mrepeat(repeat, number)\n",
      "File \u001b[0;32m~/miniconda3/envs/uiexp/lib/python3.8/timeit.py:205\u001b[0m, in \u001b[0;36mTimer.repeat\u001b[0;34m(self, repeat, number)\u001b[0m\n\u001b[1;32m    203\u001b[0m r \u001b[39m=\u001b[39m []\n\u001b[1;32m    204\u001b[0m \u001b[39mfor\u001b[39;00m i \u001b[39min\u001b[39;00m \u001b[39mrange\u001b[39m(repeat):\n\u001b[0;32m--> 205\u001b[0m     t \u001b[39m=\u001b[39m \u001b[39mself\u001b[39;49m\u001b[39m.\u001b[39;49mtimeit(number)\n\u001b[1;32m    206\u001b[0m     r\u001b[39m.\u001b[39mappend(t)\n\u001b[1;32m    207\u001b[0m \u001b[39mreturn\u001b[39;00m r\n",
      "File \u001b[0;32m~/miniconda3/envs/uiexp/lib/python3.8/timeit.py:177\u001b[0m, in \u001b[0;36mTimer.timeit\u001b[0;34m(self, number)\u001b[0m\n\u001b[1;32m    175\u001b[0m gc\u001b[39m.\u001b[39mdisable()\n\u001b[1;32m    176\u001b[0m \u001b[39mtry\u001b[39;00m:\n\u001b[0;32m--> 177\u001b[0m     timing \u001b[39m=\u001b[39m \u001b[39mself\u001b[39;49m\u001b[39m.\u001b[39;49minner(it, \u001b[39mself\u001b[39;49m\u001b[39m.\u001b[39;49mtimer)\n\u001b[1;32m    178\u001b[0m \u001b[39mfinally\u001b[39;00m:\n\u001b[1;32m    179\u001b[0m     \u001b[39mif\u001b[39;00m gcold:\n",
      "File \u001b[0;32m<timeit-src>:6\u001b[0m, in \u001b[0;36minner\u001b[0;34m(_it, _timer, _stmt)\u001b[0m\n",
      "\u001b[1;32m/project/codesandbox-template-blank/processors.ipynb Cell 3\u001b[0m in \u001b[0;36mfuncproc\u001b[0;34m()\u001b[0m\n\u001b[1;32m     <a href='vscode-notebook-cell://ssh-remote%2Brajivmehtaflex.codesandbox-template-blank.draft---eloquent-matan.csb/project/codesandbox-template-blank/processors.ipynb#W2sdnNjb2RlLXJlbW90ZQ%3D%3D?line=25'>26</a>\u001b[0m \u001b[39m@timer\u001b[39m(\u001b[39m1\u001b[39m,\u001b[39m1\u001b[39m)\n\u001b[1;32m     <a href='vscode-notebook-cell://ssh-remote%2Brajivmehtaflex.codesandbox-template-blank.draft---eloquent-matan.csb/project/codesandbox-template-blank/processors.ipynb#W2sdnNjb2RlLXJlbW90ZQ%3D%3D?line=26'>27</a>\u001b[0m \u001b[39mdef\u001b[39;00m \u001b[39mfuncproc\u001b[39m():\n\u001b[0;32m---> <a href='vscode-notebook-cell://ssh-remote%2Brajivmehtaflex.codesandbox-template-blank.draft---eloquent-matan.csb/project/codesandbox-template-blank/processors.ipynb#W2sdnNjb2RlLXJlbW90ZQ%3D%3D?line=27'>28</a>\u001b[0m     asyncio\u001b[39m.\u001b[39;49mrun(sample())\n",
      "File \u001b[0;32m~/miniconda3/envs/uiexp/lib/python3.8/asyncio/runners.py:33\u001b[0m, in \u001b[0;36mrun\u001b[0;34m(main, debug)\u001b[0m\n\u001b[1;32m      9\u001b[0m \u001b[39m\"\"\"Execute the coroutine and return the result.\u001b[39;00m\n\u001b[1;32m     10\u001b[0m \n\u001b[1;32m     11\u001b[0m \u001b[39mThis function runs the passed coroutine, taking care of\u001b[39;00m\n\u001b[0;32m   (...)\u001b[0m\n\u001b[1;32m     30\u001b[0m \u001b[39m    asyncio.run(main())\u001b[39;00m\n\u001b[1;32m     31\u001b[0m \u001b[39m\"\"\"\u001b[39;00m\n\u001b[1;32m     32\u001b[0m \u001b[39mif\u001b[39;00m events\u001b[39m.\u001b[39m_get_running_loop() \u001b[39mis\u001b[39;00m \u001b[39mnot\u001b[39;00m \u001b[39mNone\u001b[39;00m:\n\u001b[0;32m---> 33\u001b[0m     \u001b[39mraise\u001b[39;00m \u001b[39mRuntimeError\u001b[39;00m(\n\u001b[1;32m     34\u001b[0m         \u001b[39m\"\u001b[39m\u001b[39masyncio.run() cannot be called from a running event loop\u001b[39m\u001b[39m\"\u001b[39m)\n\u001b[1;32m     36\u001b[0m \u001b[39mif\u001b[39;00m \u001b[39mnot\u001b[39;00m coroutines\u001b[39m.\u001b[39miscoroutine(main):\n\u001b[1;32m     37\u001b[0m     \u001b[39mraise\u001b[39;00m \u001b[39mValueError\u001b[39;00m(\u001b[39m\"\u001b[39m\u001b[39ma coroutine was expected, got \u001b[39m\u001b[39m{!r}\u001b[39;00m\u001b[39m\"\u001b[39m\u001b[39m.\u001b[39mformat(main))\n",
      "\u001b[0;31mRuntimeError\u001b[0m: asyncio.run() cannot be called from a running event loop"
     ]
    }
   ],
   "source": [
    "# %%time\n",
    "import asyncio\n",
    "\n",
    "\n",
    "URL='https://httpbin.org/uuid'\n",
    "\n",
    "async def getdata(session,URL):\n",
    "    async with session.get(URL) as response:\n",
    "        responsefromserver = await response.json()\n",
    "        print(responsefromserver['uuid'])\n",
    "\n",
    "\n",
    "async def sample():\n",
    "    # with requests.Session() as session:\n",
    "    #     with ThreadPoolExecutor(max_workers=50) as executor:\n",
    "    #         executor.map(getdata, [session]*100, [URL]*100)\n",
    "    # with Pool() as pref:\n",
    "    #     with requests.Session() as s:\n",
    "    #         pref.starmap(getdata,[(s,URL) for _ in range(100)])\n",
    "    for inx,item in enumerate(range(100)):\n",
    "        async with aiohttp.Session() as s:\n",
    "            tasks=[getdata(s,URL) for _ in range(100)]\n",
    "            await asyncio.gather(*tasks)\n",
    "            #  print(f'index {inx}-->{getdata(s,URL)}')\n",
    "\n",
    "@timer(1,1)\n",
    "def funcproc():\n",
    "    asyncio.run(sample())\n"
   ]
  },
  {
   "cell_type": "code",
   "execution_count": null,
   "metadata": {},
   "outputs": [],
   "source": [
    "[URL]*100"
   ]
  },
  {
   "cell_type": "code",
   "execution_count": null,
   "metadata": {},
   "outputs": [],
   "source": []
  },
  {
   "cell_type": "code",
   "execution_count": null,
   "metadata": {},
   "outputs": [],
   "source": []
  },
  {
   "cell_type": "code",
   "execution_count": null,
   "metadata": {},
   "outputs": [],
   "source": []
  }
 ],
 "metadata": {
  "kernelspec": {
   "display_name": "Python 3.8.13 ('uiexp')",
   "language": "python",
   "name": "python3"
  },
  "language_info": {
   "codemirror_mode": {
    "name": "ipython",
    "version": 3
   },
   "file_extension": ".py",
   "mimetype": "text/x-python",
   "name": "python",
   "nbconvert_exporter": "python",
   "pygments_lexer": "ipython3",
   "version": "3.8.13"
  },
  "orig_nbformat": 4,
  "vscode": {
   "interpreter": {
    "hash": "498d4352704bb734a87c0f25129e7177b96edffb707152e39902b9ed79072acf"
   }
  }
 },
 "nbformat": 4,
 "nbformat_minor": 2
}
