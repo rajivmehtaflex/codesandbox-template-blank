{
 "cells": [
  {
   "cell_type": "code",
   "execution_count": null,
   "metadata": {},
   "outputs": [],
   "source": [
    "!conda install -c conda-forge requests aiohttp -y"
   ]
  },
  {
   "cell_type": "code",
   "execution_count": null,
   "metadata": {},
   "outputs": [],
   "source": [
    "import os,sys\n",
    "sys.version\n",
    "import aiohttp\n",
    "from timer import timer\n",
    "from multiprocessing import Pool\n",
    "from concurrent.futures import ThreadPoolExecutor"
   ]
  },
  {
   "cell_type": "code",
   "execution_count": null,
   "metadata": {},
   "outputs": [],
   "source": [
    "# %%time\n",
    "import asyncio\n",
    "\n",
    "\n",
    "URL='https://httpbin.org/uuid'\n",
    "\n",
    "async def getdata(session,URL):\n",
    "    async with session.get(URL) as response:\n",
    "        responsefromserver = await response.json()\n",
    "        print(responsefromserver['uuid'])\n",
    "\n",
    "\n",
    "async def sample():\n",
    "    # with requests.Session() as session:\n",
    "    #     with ThreadPoolExecutor(max_workers=50) as executor:\n",
    "    #         executor.map(getdata, [session]*100, [URL]*100)\n",
    "    # with Pool() as pref:\n",
    "    #     with requests.Session() as s:\n",
    "    #         pref.starmap(getdata,[(s,URL) for _ in range(100)])\n",
    "    for inx,item in enumerate(range(100)):\n",
    "        async with aiohttp.Session() as s:\n",
    "            tasks=[getdata(s,URL) for _ in range(100)]\n",
    "            await asyncio.gather(*tasks)\n",
    "            #  print(f'index {inx}-->{getdata(s,URL)}')\n",
    "\n",
    "@timer(1,1)\n",
    "def funcproc():\n",
    "    asyncio.run(sample())\n"
   ]
  },
  {
   "cell_type": "markdown",
   "metadata": {},
   "source": [
    "### Jina Base OPS"
   ]
  },
  {
   "cell_type": "code",
   "execution_count": null,
   "metadata": {},
   "outputs": [],
   "source": [
    "from jina import Document,DocumentArray\n",
    "import os\n",
    "import sys\n",
    "import glob\n",
    "import time\n",
    "import random\n",
    "import datetime"
   ]
  },
  {
   "cell_type": "code",
   "execution_count": null,
   "metadata": {},
   "outputs": [],
   "source": [
    "# !pip list | grep 'jina'\n",
    "# !python -m jina auth login -f\n",
    "# !python -m jina --version\n",
    "# !python -m pip install ipywidgets\n",
    "# !python -m pip install tensorflow\n",
    "# !python -m pip install \"finetuner[full]\"\n",
    "# !python -m pip install -U pip setuptools wheel\n",
    "# !python -m pip install -U spacy\n",
    "# !python -m spacy download en_core_web_md\n",
    "# !python -m pip install spacy_dbpedia_spotlight\n",
    "# !python -m pip install rdflib\n",
    "# !python -m pip install networkx"
   ]
  },
  {
   "cell_type": "code",
   "execution_count": null,
   "metadata": {},
   "outputs": [],
   "source": [
    "imdb=DocumentArray().pull('tll-train-da',show_progress=True,local_cache=True)"
   ]
  },
  {
   "cell_type": "code",
   "execution_count": null,
   "metadata": {},
   "outputs": [],
   "source": [
    "imdb.save('image_info_large.bin')"
   ]
  },
  {
   "cell_type": "code",
   "execution_count": null,
   "metadata": {},
   "outputs": [],
   "source": [
    "import matplotlib.pyplot as plt\n",
    "# plt.imshow(imdb[4].tensor)\n",
    "imdb[4]"
   ]
  },
  {
   "cell_type": "code",
   "execution_count": null,
   "metadata": {},
   "outputs": [],
   "source": [
    "import tensorflow as tf\n",
    "tf.__version__"
   ]
  },
  {
   "cell_type": "code",
   "execution_count": null,
   "metadata": {},
   "outputs": [],
   "source": [
    "from diagrams import Diagram\n",
    "from diagrams.aws.compute import EC2\n",
    "\n",
    "with Diagram(\"Simple Diagram\",show=False) as gdb:\n",
    "    EC2(\"web\")\n",
    "\n",
    "gdb    "
   ]
  },
  {
   "cell_type": "code",
   "execution_count": null,
   "metadata": {},
   "outputs": [],
   "source": [
    "from diagrams import Diagram, Cluster\n",
    "from diagrams.custom import Custom\n",
    "from diagrams.aws.storage import SimpleStorageServiceS3Bucket\n",
    "\n",
    "with Diagram(\"\\r\\r\\Workflow is a pipeline where data is flow between various services\", show=False, filename=\"custom_local\", direction=\"LR\") as gdb:\n",
    "    \n",
    "  cc_tweet = Custom('Twitter Datasource','./images/tweet_icon.jpg')\n",
    "  cc_google_sheet = Custom('\\r\\rGoogle Sheet Datasource ','./images/Google_Sheets_logo.png')\n",
    "  cc_git_actions = Custom(' Github Actions','./images/github_actions.png')  \n",
    "  s3 = SimpleStorageServiceS3Bucket(label=\"S3 Bucket\")\n",
    "\n",
    "  cc_google_sheet << cc_git_actions << cc_tweet\n",
    "\n",
    "  s3 <<  cc_git_actions << cc_google_sheet \n",
    "\n",
    "gdb"
   ]
  },
  {
   "cell_type": "markdown",
   "metadata": {},
   "source": [
    "### Spacy Operations -- Named Entity Linking"
   ]
  },
  {
   "cell_type": "code",
   "execution_count": null,
   "metadata": {},
   "outputs": [],
   "source": [
    "import spacy\n",
    "import spacy_dbpedia_spotlight\n",
    "from spacy.matcher import Matcher\n",
    "nlp = spacy.load(\"en_core_web_trf\")\n",
    "nlp.add_pipe('dbpedia_spotlight')\n",
    "doc = nlp(\"Joe Biden married Jill Tracy Jacobs, who was educated at the University of Delaware\")\n",
    "print([token.text for token in doc], sep=' ')\n"
   ]
  },
  {
   "cell_type": "code",
   "execution_count": null,
   "metadata": {},
   "outputs": [],
   "source": [
    "print([token.lemma_ for token in doc], sep=' ')"
   ]
  },
  {
   "cell_type": "code",
   "execution_count": null,
   "metadata": {},
   "outputs": [],
   "source": [
    "print([(token.lemma_, token.pos_) for token in doc], sep=' ')"
   ]
  },
  {
   "cell_type": "code",
   "execution_count": null,
   "metadata": {},
   "outputs": [],
   "source": [
    "print([(token.lemma_, token.dep_) for token in doc], sep=' ')"
   ]
  },
  {
   "cell_type": "code",
   "execution_count": null,
   "metadata": {},
   "outputs": [],
   "source": [
    "print([(ent.text, ent.label_) for ent in doc.ents], sep = ' ')"
   ]
  },
  {
   "cell_type": "code",
   "execution_count": null,
   "metadata": {},
   "outputs": [],
   "source": [
    "print([ent.kb_id_ for ent in doc.ents])"
   ]
  },
  {
   "cell_type": "code",
   "execution_count": null,
   "metadata": {},
   "outputs": [],
   "source": [
    "print(\"Before:\", [token.text for token in doc])\n",
    "ents = [ent for ent in doc.ents]\n",
    "with doc.retokenize() as retokenizer:\n",
    "    for i in range(len(ents)):\n",
    "        retokenizer.merge(doc.ents[i])\n",
    "print(\"After:\", [token.text for token in doc])"
   ]
  },
  {
   "cell_type": "code",
   "execution_count": null,
   "metadata": {},
   "outputs": [],
   "source": [
    "def get_relation(sent):\n",
    "  aux = []\n",
    "  doc = nlp(sent)\n",
    "\n",
    "  # Matcher class object \n",
    "  matcher = Matcher(nlp.vocab)\n",
    "\n",
    "  #define the pattern \n",
    "  pattern = [[{'DEP' : 'ROOT'}],[{'DEP' : 'relcl'}],\n",
    "            [{'POS' : 'VERB' }]]\n",
    "\n",
    "  matcher.add(\"matching_1\",pattern) \n",
    "\n",
    "  matches = matcher(doc)\n",
    "  for x in matches:\n",
    "    aux.append(doc[x[1]:x[2]].text)\n",
    "\n",
    "  return(aux)\n",
    "\n",
    "rels = get_relation(\"Joe Biden married Jill Tracy Jacobs, who was educated at the University of Delaware\")\n",
    "print(rels)"
   ]
  },
  {
   "cell_type": "code",
   "execution_count": null,
   "metadata": {},
   "outputs": [],
   "source": [
    "from rdflib import Graph, URIRef, Literal, BNode\n",
    "from rdflib.namespace import RDF, RDFS\n",
    "from rdflib import Namespace\n",
    "g = Graph()\n",
    "\n",
    "for ent in doc.ents:\n",
    "    # add the label of the entity\n",
    "    g.add((URIRef(ent.kb_id_), RDFS.label, Literal(ent.text)))\n",
    "    prev = URIRef(ent.kb_id_)\n",
    "\n",
    "g.add((URIRef('http://dbpedia.org/resource/Joe_Biden'), URIRef(\"https://dbpedia.org/ontology/\"+rels[0]), URIRef('http://dbpedia.org/resource/Jill_Tracy')))\n",
    "g.add((URIRef('http://dbpedia.org/resource/Jill_Tracy'), URIRef(\"https://dbpedia.org/ontology/\"+rels[1]), URIRef('http://dbpedia.org/resource/Delaware')))"
   ]
  },
  {
   "cell_type": "code",
   "execution_count": null,
   "metadata": {},
   "outputs": [],
   "source": [
    "import rdflib\n",
    "from rdflib.extras.external_graph_libs import rdflib_to_networkx_multidigraph\n",
    "import networkx as nx\n",
    "import matplotlib.pyplot as plt\n",
    "\n",
    "G = rdflib_to_networkx_multidigraph(g)\n",
    "\n",
    "# Plot Networkx instance of RDF Graph\n",
    "pos = nx.spring_layout(G, scale=2)\n",
    "edge_labels = nx.get_edge_attributes(G, 'r')\n",
    "plt.figure(figsize=(10,10))\n",
    "nx.draw_networkx_edge_labels(G, pos, edge_labels=edge_labels)\n",
    "nx.draw(G, with_labels=True)\n",
    "plt.show()"
   ]
  },
  {
   "cell_type": "code",
   "execution_count": null,
   "metadata": {},
   "outputs": [],
   "source": []
  },
  {
   "cell_type": "code",
   "execution_count": null,
   "metadata": {},
   "outputs": [],
   "source": []
  }
 ],
 "metadata": {
  "kernelspec": {
   "display_name": "Python 3.8.13 64-bit ('shims')",
   "language": "python",
   "name": "python3"
  },
  "language_info": {
   "codemirror_mode": {
    "name": "ipython",
    "version": 3
   },
   "file_extension": ".py",
   "mimetype": "text/x-python",
   "name": "python",
   "nbconvert_exporter": "python",
   "pygments_lexer": "ipython3",
   "version": "3.8.13"
  },
  "orig_nbformat": 4,
  "vscode": {
   "interpreter": {
    "hash": "9ac03a0a6051494cc606d484d27d20fce22fb7b4d169f583271e11d5ba46a56e"
   }
  }
 },
 "nbformat": 4,
 "nbformat_minor": 2
}
