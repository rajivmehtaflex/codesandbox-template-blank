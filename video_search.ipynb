{
 "cells": [
  {
   "cell_type": "code",
   "execution_count": null,
   "metadata": {},
   "outputs": [],
   "source": [
    "print('Gajraj')"
   ]
  },
  {
   "cell_type": "code",
   "execution_count": null,
   "metadata": {},
   "outputs": [],
   "source": [
    "!pip install av clip_client jina gradio"
   ]
  },
  {
   "cell_type": "code",
   "execution_count": null,
   "metadata": {},
   "outputs": [],
   "source": [
    "import gradio as gr\n",
    "from docarray import Document,DocumentArray\n",
    "from numpy import rot90\n",
    "from clip_client import Client"
   ]
  },
  {
   "cell_type": "code",
   "execution_count": 30,
   "metadata": {},
   "outputs": [],
   "source": [
    "def prepare_videos_to_tensor(search_query,video_info):\n",
    "    video_data = Document(uri=video_info).load_uri_to_video_tensor()\n",
    "    keyframe_indices = video_data.tags['keyframe_indices']\n",
    "    keyframes = DocumentArray()\n",
    "    for idx in range(0, len(keyframe_indices) - 1):\n",
    "        keyframe_number = keyframe_indices[idx]\n",
    "        keyframe_tensor = rot90(video_data.tensor[keyframe_number], -1)\n",
    "        clip_indices = {\n",
    "            'start': str(keyframe_number),\n",
    "            'end': str(keyframe_indices[idx + 1]),\n",
    "        }\n",
    "        keyframe = Document(tags=clip_indices, tensor=keyframe_tensor)\n",
    "        keyframes.append(keyframe)\n",
    "    \n",
    "    return keyframes , video_data \n",
    "\n",
    "def get_processor():\n",
    "    server_url = \"grpcs://api.clip.jina.ai:2096\"\n",
    "    jina_auth_token = \"ef8dd06701869bc93d1849de103617ae\"\n",
    "    client = Client(server_url, credential={\"Authorization\": jina_auth_token})  \n",
    "    return client\n",
    "\n",
    "def query(search_text,keyframes,search_engine):\n",
    "    query = Document(text=search_text, matches=keyframes)\n",
    "    return search_engine.rank([query])[0]    \n",
    "\n",
    "def show_results(ranked_result,video_data):\n",
    "    match = ranked_result.matches[0]\n",
    "    start_frame = int(match.tags['start'])\n",
    "    end_frame = int(match.tags['end'])\n",
    "    clip_data = video_data.tensor[start_frame:end_frame] \n",
    "    Document(tensor=clip_data).save_video_tensor_to_file(\"match.mp4\")\n",
    "    return 'match.mp4'\n",
    "\n",
    "def main(param1,search_query,video_info):\n",
    "    print(f'{search_query} , {video_info}')\n",
    "    keyframes,video_data=prepare_videos_to_tensor(search_query,video_info)\n",
    "    client=get_processor()\n",
    "    ranked_result=query(search_text=search_query,keyframes=keyframes,search_engine=client)\n",
    "    print(ranked_result.matches[0].tags)\n",
    "    return show_results(ranked_result=ranked_result, video_data= video_data)"
   ]
  },
  {
   "cell_type": "code",
   "execution_count": null,
   "metadata": {},
   "outputs": [],
   "source": [
    "main('','car on the road opposite office','/tmp/baby5v6_atdv.mp4')"
   ]
  },
  {
   "cell_type": "code",
   "execution_count": 31,
   "metadata": {},
   "outputs": [
    {
     "name": "stdout",
     "output_type": "stream",
     "text": [
      "Running on local URL:  http://127.0.0.1:7861\n",
      "\n",
      "Setting up a public link... we have recently upgraded the way public links are generated. If you encounter any problems, please report the issue and downgrade to gradio version 3.13.0\n",
      ".\n",
      "Running on public URL: https://5fb0a838-9c5b-4a7e.gradio.live\n",
      "\n",
      "This share link expires in 72 hours. For free permanent hosting and GPU upgrades (NEW!), check out Spaces: https://huggingface.co/spaces\n"
     ]
    },
    {
     "data": {
      "text/html": [
       "<div><iframe src=\"https://5fb0a838-9c5b-4a7e.gradio.live\" width=\"100%\" height=\"500\" allow=\"autoplay; camera; microphone; clipboard-read; clipboard-write;\" frameborder=\"0\" allowfullscreen></iframe></div>"
      ],
      "text/plain": [
       "<IPython.core.display.HTML object>"
      ]
     },
     "metadata": {},
     "output_type": "display_data"
    },
    {
     "data": {
      "text/plain": []
     },
     "execution_count": 31,
     "metadata": {},
     "output_type": "execute_result"
    },
    {
     "name": "stdout",
     "output_type": "stream",
     "text": [
      "A women with wearing goggles  , /tmp/babye5apwn3a.mp4\n",
      "\n"
     ]
    },
    {
     "data": {
      "text/html": [
       "<pre style=\"white-space:pre;overflow-x:auto;line-height:normal;font-family:Menlo,'DejaVu Sans Mono',consolas,'Courier New',monospace\">\n",
       "</pre>\n"
      ],
      "text/plain": [
       "\n"
      ]
     },
     "metadata": {},
     "output_type": "display_data"
    },
    {
     "name": "stdout",
     "output_type": "stream",
     "text": [
      "{'end': '1070', 'start': '918'}\n"
     ]
    }
   ],
   "source": [
    "# %%writefile ./server.py\n",
    "import gradio as gr\n",
    "from docarray import Document,DocumentArray\n",
    "from numpy import rot90\n",
    "from clip_client import Client\n",
    "\n",
    "render=f\"\"\"\n",
    "        <h3 color='red'> Welcome to the world of nightmare </h3> \n",
    "        \"\"\"\n",
    "\n",
    "def main(param1,search_query,video_info):\n",
    "    print(f'{search_query} , {video_info}')\n",
    "    keyframes,video_data=prepare_videos_to_tensor(search_query,video_info)\n",
    "    client=get_processor()\n",
    "    ranked_result=query(search_text=search_query,keyframes=keyframes,search_engine=client)\n",
    "    print(ranked_result.matches[0].tags)\n",
    "    return show_results(ranked_result=ranked_result, video_data= video_data)\n",
    "\n",
    "with gr.Blocks() as solution:\n",
    "    title=gr.Markdown(render)\n",
    "    lbl=gr.Textbox(placeholder=\"Enter your search here...\")\n",
    "    video=gr.Video(elem_id='input_video_source')\n",
    "    video_output=gr.Video(elem_id='output_video_source')\n",
    "    btn=gr.Button('Fire')\n",
    "    btn.click(fn=main,inputs=[title,lbl,video],outputs=[video_output])\n",
    "\n",
    "solution.launch(share=True)"
   ]
  },
  {
   "cell_type": "code",
   "execution_count": null,
   "metadata": {},
   "outputs": [],
   "source": []
  }
 ],
 "metadata": {
  "kernelspec": {
   "display_name": "Python 3",
   "language": "python",
   "name": "python3"
  },
  "language_info": {
   "codemirror_mode": {
    "name": "ipython",
    "version": 3
   },
   "file_extension": ".py",
   "mimetype": "text/x-python",
   "name": "python",
   "nbconvert_exporter": "python",
   "pygments_lexer": "ipython3",
   "version": "3.8.13"
  },
  "orig_nbformat": 4,
  "vscode": {
   "interpreter": {
    "hash": "9ac03a0a6051494cc606d484d27d20fce22fb7b4d169f583271e11d5ba46a56e"
   }
  }
 },
 "nbformat": 4,
 "nbformat_minor": 2
}
